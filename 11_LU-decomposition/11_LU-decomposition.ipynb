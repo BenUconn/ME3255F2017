{
 "cells": [
  {
   "cell_type": "code",
   "execution_count": 3,
   "metadata": {
    "collapsed": true,
    "slideshow": {
     "slide_type": "skip"
    }
   },
   "outputs": [],
   "source": [
    "%plot --format svg"
   ]
  },
  {
   "cell_type": "code",
   "execution_count": 4,
   "metadata": {
    "collapsed": true,
    "slideshow": {
     "slide_type": "skip"
    }
   },
   "outputs": [],
   "source": [
    "setdefaults"
   ]
  },
  {
   "cell_type": "markdown",
   "metadata": {
    "slideshow": {
     "slide_type": "slide"
    }
   },
   "source": [
    "# LU Decomposition\n",
    "### efficient storage of matrices for solutions"
   ]
  },
  {
   "cell_type": "markdown",
   "metadata": {
    "slideshow": {
     "slide_type": "slide"
    }
   },
   "source": [
    "Consider equation set:\n",
    "\n",
    "$y=Ax$\n",
    "\n",
    "Assume that we can perform Gauss elimination and achieve this formula:\n",
    "\n",
    "$Ux=d$ \n",
    "\n",
    "$U$: upper triangular matrix derived from Gauss elimination \n",
    "\n",
    "$d$: is the set of dependent variables after Gauss elimination. "
   ]
  },
  {
   "cell_type": "markdown",
   "metadata": {
    "slideshow": {
     "slide_type": "subslide"
    }
   },
   "source": [
    "Assume lower triangular matrix, $L$, exists \n",
    "\n",
    "- ones on the diagonal \n",
    "- same dimensions as $U$ \n",
    "- following is true:\n",
    "\n",
    "$L(Ux-d)=Ax-y=0$\n",
    "\n",
    "Now, $Ax=LUx$, so $A=LU$, and $y=Ld$."
   ]
  },
  {
   "cell_type": "markdown",
   "metadata": {
    "slideshow": {
     "slide_type": "subslide"
    }
   },
   "source": [
    "$2x_{1}+x_{2}=1$\n",
    "\n",
    "$x_{1}+3x_{2}=1$\n",
    "\n",
    "\n",
    "$\\left[ \\begin{array}{cc}\n",
    "2 & 1 \\\\\n",
    "1 & 3 \\end{array} \\right]\n",
    "\\left[\\begin{array}{c} \n",
    "x_{1} \\\\ \n",
    "x_{2} \\end{array}\\right]=\n",
    "\\left[\\begin{array}{c} \n",
    "1 \\\\\n",
    "1\\end{array}\\right]$\n",
    "\n",
    "f21=0.5\n",
    "\n",
    "A(2,1)=1-1 = 0 \n",
    "\n",
    "A(2,2)=3-0.5=2.5\n",
    "\n",
    "y(2)=1-0.5=0.5\n",
    "\n",
    "$L(Ux-d)=\n",
    "\\left[ \\begin{array}{cc}\n",
    "1 & 0 \\\\\n",
    "0.5 & 1 \\end{array} \\right]\n",
    "\\left(\\left[ \\begin{array}{cc}\n",
    "2 & 1 \\\\\n",
    "0 & 2.5 \\end{array} \\right]\n",
    "\\left[\\begin{array}{c} \n",
    "x_{1} \\\\ \n",
    "x_{2} \\end{array}\\right]-\n",
    "\\left[\\begin{array}{c} \n",
    "1 \\\\\n",
    "0.5\\end{array}\\right]\\right)=0$"
   ]
  },
  {
   "cell_type": "code",
   "execution_count": 12,
   "metadata": {
    "collapsed": false,
    "slideshow": {
     "slide_type": "subslide"
    }
   },
   "outputs": [
    {
     "name": "stdout",
     "output_type": "stream",
     "text": [
      "ans =\n",
      "\n",
      "   2   1\n",
      "   1   3\n",
      "\n",
      "d =\n",
      "\n",
      "   1.00000\n",
      "   0.50000\n",
      "\n",
      "y =\n",
      "\n",
      "   1\n",
      "   1\n",
      "\n"
     ]
    }
   ],
   "source": [
    "A=[2,1;1,3];\n",
    "L=[1,0;0.5,1];\n",
    "U=[2,1;0,2.5];\n",
    "L*U\n",
    "\n",
    "d=[1;0.5]\n",
    "y=L*d"
   ]
  },
  {
   "cell_type": "code",
   "execution_count": 13,
   "metadata": {
    "collapsed": false,
    "slideshow": {
     "slide_type": "slide"
    }
   },
   "outputs": [
    {
     "name": "stdout",
     "output_type": "stream",
     "text": [
      "ans =  5.0000\n",
      "ans =  1\n",
      "ans =  5\n",
      "ans =  5\n",
      "ans =  5.0000\n"
     ]
    }
   ],
   "source": [
    "% what is the determinant of L, U and A?\n",
    "\n",
    "det(A)\n",
    "det(L)\n",
    "det(U)\n",
    "det(L)*det(U)\n",
    "det(L*U)"
   ]
  },
  {
   "cell_type": "markdown",
   "metadata": {
    "slideshow": {
     "slide_type": "slide"
    }
   },
   "source": [
    "## Pivoting for LU factorization\n",
    "\n",
    "LU factorization uses the same method as Gauss elimination so it is also necessary to perform partial pivoting when creating the lower and upper triangular matrices. \n",
    "\n",
    "Matlab and Octave use pivoting in the command \n",
    "\n",
    "`[L,U,P]=lu(A)`\n",
    "\n"
   ]
  },
  {
   "cell_type": "code",
   "execution_count": 14,
   "metadata": {
    "collapsed": false,
    "slideshow": {
     "slide_type": "subslide"
    }
   },
   "outputs": [
    {
     "name": "stdout",
     "output_type": "stream",
     "text": [
      "'lu' is a built-in function from the file libinterp/corefcn/lu.cc\n",
      "\n",
      " -- Built-in Function: [L, U] = lu (A)\n",
      " -- Built-in Function: [L, U, P] = lu (A)\n",
      " -- Built-in Function: [L, U, P, Q] = lu (S)\n",
      " -- Built-in Function: [L, U, P, Q, R] = lu (S)\n",
      " -- Built-in Function: [...] = lu (S, THRES)\n",
      " -- Built-in Function: Y = lu (...)\n",
      " -- Built-in Function: [...] = lu (..., \"vector\")\n",
      "     Compute the LU decomposition of A.\n",
      "\n",
      "     If A is full subroutines from LAPACK are used and if A is sparse\n",
      "     then UMFPACK is used.\n",
      "\n",
      "     The result is returned in a permuted form, according to the\n",
      "     optional return value P.  For example, given the matrix 'a = [1, 2;\n",
      "     3, 4]',\n",
      "\n",
      "          [l, u, p] = lu (A)\n",
      "\n",
      "     returns\n",
      "\n",
      "          l =\n",
      "\n",
      "            1.00000  0.00000\n",
      "            0.33333  1.00000\n",
      "\n",
      "          u =\n",
      "\n",
      "            3.00000  4.00000\n",
      "            0.00000  0.66667\n",
      "\n",
      "          p =\n",
      "\n",
      "            0  1\n",
      "            1  0\n",
      "\n",
      "     The matrix is not required to be square.\n",
      "\n",
      "     When called with two or three output arguments and a spare input\n",
      "     matrix, 'lu' does not attempt to perform sparsity preserving column\n",
      "     permutations.  Called with a fourth output argument, the sparsity\n",
      "     preserving column transformation Q is returned, such that 'P * A *\n",
      "     Q = L * U'.\n",
      "\n",
      "     Called with a fifth output argument and a sparse input matrix, 'lu'\n",
      "     attempts to use a scaling factor R on the input matrix such that 'P\n",
      "     * (R \\ A) * Q = L * U'.  This typically leads to a sparser and more\n",
      "     stable factorization.\n",
      "\n",
      "     An additional input argument THRES, that defines the pivoting\n",
      "     threshold can be given.  THRES can be a scalar, in which case it\n",
      "     defines the UMFPACK pivoting tolerance for both symmetric and\n",
      "     unsymmetric cases.  If THRES is a 2-element vector, then the first\n",
      "     element defines the pivoting tolerance for the unsymmetric UMFPACK\n",
      "     pivoting strategy and the second for the symmetric strategy.  By\n",
      "     default, the values defined by 'spparms' are used ([0.1, 0.001]).\n",
      "\n",
      "     Given the string argument \"vector\", 'lu' returns the values of P\n",
      "     and Q as vector values, such that for full matrix, 'A (P,:) = L *\n",
      "     U', and 'R(P,:) * A (:, Q) = L * U'.\n",
      "\n",
      "     With two output arguments, returns the permuted forms of the upper\n",
      "     and lower triangular matrices, such that 'A = L * U'.  With one\n",
      "     output argument Y, then the matrix returned by the LAPACK routines\n",
      "     is returned.  If the input matrix is sparse then the matrix L is\n",
      "     embedded into U to give a return value similar to the full case.\n",
      "     For both full and sparse matrices, 'lu' loses the permutation\n",
      "     information.\n",
      "\n",
      "     See also: luupdate, ilu, chol, hess, qr, qz, schur, svd.\n",
      "\n",
      "Additional help for built-in functions and operators is\n",
      "available in the online version of the manual.  Use the command\n",
      "'doc <topic>' to search the manual index.\n",
      "\n",
      "Help and information about Octave is also available on the WWW\n",
      "at http://www.octave.org and via the help@octave.org\n",
      "mailing list.\n"
     ]
    }
   ],
   "source": [
    "help lu"
   ]
  },
  {
   "cell_type": "code",
   "execution_count": 16,
   "metadata": {
    "collapsed": false,
    "slideshow": {
     "slide_type": "slide"
    }
   },
   "outputs": [
    {
     "data": {
      "image/svg+xml": [
       "<svg height=\"420px\" viewBox=\"0 0 560 420\" width=\"560px\" xmlns=\"http://www.w3.org/2000/svg\" xmlns:xlink=\"http://www.w3.org/1999/xlink\">\n",
       "\n",
       "<title>Gnuplot</title>\n",
       "<desc>Produced by GNUPLOT 5.0 patchlevel 3 </desc>\n",
       "\n",
       "<g id=\"gnuplot_canvas\">\n",
       "\n",
       "<rect fill=\"none\" height=\"420\" width=\"560\" x=\"0\" y=\"0\"/>\n",
       "<defs>\n",
       "\n",
       "\t<circle id=\"gpDot\" r=\"0.5\" stroke-width=\"0.5\"/>\n",
       "\t<path d=\"M-1,0 h2 M0,-1 v2\" id=\"gpPt0\" stroke=\"currentColor\" stroke-width=\"0.222\"/>\n",
       "\t<path d=\"M-1,-1 L1,1 M1,-1 L-1,1\" id=\"gpPt1\" stroke=\"currentColor\" stroke-width=\"0.222\"/>\n",
       "\t<path d=\"M-1,0 L1,0 M0,-1 L0,1 M-1,-1 L1,1 M-1,1 L1,-1\" id=\"gpPt2\" stroke=\"currentColor\" stroke-width=\"0.222\"/>\n",
       "\t<rect height=\"2\" id=\"gpPt3\" stroke=\"currentColor\" stroke-width=\"0.222\" width=\"2\" x=\"-1\" y=\"-1\"/>\n",
       "\t<rect fill=\"currentColor\" height=\"2\" id=\"gpPt4\" stroke=\"currentColor\" stroke-width=\"0.222\" width=\"2\" x=\"-1\" y=\"-1\"/>\n",
       "\t<circle cx=\"0\" cy=\"0\" id=\"gpPt5\" r=\"1\" stroke=\"currentColor\" stroke-width=\"0.222\"/>\n",
       "\t<use fill=\"currentColor\" id=\"gpPt6\" stroke=\"none\" xlink:href=\"#gpPt5\"/>\n",
       "\t<path d=\"M0,-1.33 L-1.33,0.67 L1.33,0.67 z\" id=\"gpPt7\" stroke=\"currentColor\" stroke-width=\"0.222\"/>\n",
       "\t<use fill=\"currentColor\" id=\"gpPt8\" stroke=\"none\" xlink:href=\"#gpPt7\"/>\n",
       "\t<use id=\"gpPt9\" stroke=\"currentColor\" transform=\"rotate(180)\" xlink:href=\"#gpPt7\"/>\n",
       "\t<use fill=\"currentColor\" id=\"gpPt10\" stroke=\"none\" xlink:href=\"#gpPt9\"/>\n",
       "\t<use id=\"gpPt11\" stroke=\"currentColor\" transform=\"rotate(45)\" xlink:href=\"#gpPt3\"/>\n",
       "\t<use fill=\"currentColor\" id=\"gpPt12\" stroke=\"none\" xlink:href=\"#gpPt11\"/>\n",
       "\t<path d=\"M0,1.330 L1.265,0.411 L0.782,-1.067 L-0.782,-1.076 L-1.265,0.411 z\" id=\"gpPt13\" stroke=\"currentColor\" stroke-width=\"0.222\"/>\n",
       "\t<use fill=\"currentColor\" id=\"gpPt14\" stroke=\"none\" xlink:href=\"#gpPt13\"/>\n",
       "\t<filter filterUnits=\"objectBoundingBox\" height=\"1\" id=\"textbox\" width=\"1\" x=\"0\" y=\"0\">\n",
       "\t  <feFlood flood-color=\"white\" flood-opacity=\"1\" result=\"bgnd\"/>\n",
       "\t  <feComposite in=\"SourceGraphic\" in2=\"bgnd\" operator=\"atop\"/>\n",
       "\t</filter>\n",
       "\t<filter filterUnits=\"objectBoundingBox\" height=\"1\" id=\"greybox\" width=\"1\" x=\"0\" y=\"0\">\n",
       "\t  <feFlood flood-color=\"lightgrey\" flood-opacity=\"1\" result=\"grey\"/>\n",
       "\t  <feComposite in=\"SourceGraphic\" in2=\"grey\" operator=\"atop\"/>\n",
       "\t</filter>\n",
       "</defs>\n",
       "<g color=\"white\" fill=\"none\" stroke=\"currentColor\" stroke-linecap=\"butt\" stroke-linejoin=\"miter\" stroke-width=\"1.00\">\n",
       "</g>\n",
       "<g color=\"black\" fill=\"none\" stroke=\"currentColor\" stroke-linecap=\"butt\" stroke-linejoin=\"miter\" stroke-width=\"1.00\">\n",
       "\t<g shape-rendering=\"crispEdges\" stroke=\"none\">\n",
       "\t\t<polygon fill=\"rgb(255, 255, 255)\" points=\"70.5,384.0 534.9,384.0 534.9,16.8 70.5,16.8 \"/>\n",
       "\t</g>\n",
       "</g>\n",
       "<g color=\"black\" fill=\"none\" stroke=\"rgb(255, 255, 255)\" stroke-linecap=\"butt\" stroke-linejoin=\"miter\" stroke-width=\"0.50\">\n",
       "</g>\n",
       "<g color=\"black\" fill=\"none\" stroke=\"currentColor\" stroke-linecap=\"butt\" stroke-linejoin=\"miter\" stroke-width=\"0.50\">\n",
       "\t<path d=\"M70.5,384.0 L83.0,384.0 M535.0,384.0 L522.5,384.0  \" stroke=\"black\"/>\t<g fill=\"rgb(0,0,0)\" font-family=\"{}\" font-size=\"16.00\" stroke=\"none\" text-anchor=\"end\" transform=\"translate(62.2,390.0)\">\n",
       "\t\t<text><tspan font-family=\"{}\">0</tspan></text>\n",
       "\t</g>\n",
       "</g>\n",
       "<g color=\"black\" fill=\"none\" stroke=\"currentColor\" stroke-linecap=\"butt\" stroke-linejoin=\"miter\" stroke-width=\"0.50\">\n",
       "\t<path d=\"M70.5,310.5 L83.0,310.5 M535.0,310.5 L522.5,310.5  \" stroke=\"black\"/>\t<g fill=\"rgb(0,0,0)\" font-family=\"{}\" font-size=\"16.00\" stroke=\"none\" text-anchor=\"end\" transform=\"translate(62.2,316.5)\">\n",
       "\t\t<text><tspan font-family=\"{}\">0.0002</tspan></text>\n",
       "\t</g>\n",
       "</g>\n",
       "<g color=\"black\" fill=\"none\" stroke=\"currentColor\" stroke-linecap=\"butt\" stroke-linejoin=\"miter\" stroke-width=\"0.50\">\n",
       "\t<path d=\"M70.5,237.1 L83.0,237.1 M535.0,237.1 L522.5,237.1  \" stroke=\"black\"/>\t<g fill=\"rgb(0,0,0)\" font-family=\"{}\" font-size=\"16.00\" stroke=\"none\" text-anchor=\"end\" transform=\"translate(62.2,243.1)\">\n",
       "\t\t<text><tspan font-family=\"{}\">0.0004</tspan></text>\n",
       "\t</g>\n",
       "</g>\n",
       "<g color=\"black\" fill=\"none\" stroke=\"currentColor\" stroke-linecap=\"butt\" stroke-linejoin=\"miter\" stroke-width=\"0.50\">\n",
       "\t<path d=\"M70.5,163.6 L83.0,163.6 M535.0,163.6 L522.5,163.6  \" stroke=\"black\"/>\t<g fill=\"rgb(0,0,0)\" font-family=\"{}\" font-size=\"16.00\" stroke=\"none\" text-anchor=\"end\" transform=\"translate(62.2,169.6)\">\n",
       "\t\t<text><tspan font-family=\"{}\">0.0006</tspan></text>\n",
       "\t</g>\n",
       "</g>\n",
       "<g color=\"black\" fill=\"none\" stroke=\"currentColor\" stroke-linecap=\"butt\" stroke-linejoin=\"miter\" stroke-width=\"0.50\">\n",
       "\t<path d=\"M70.5,90.2 L83.0,90.2 M535.0,90.2 L522.5,90.2  \" stroke=\"black\"/>\t<g fill=\"rgb(0,0,0)\" font-family=\"{}\" font-size=\"16.00\" stroke=\"none\" text-anchor=\"end\" transform=\"translate(62.2,96.2)\">\n",
       "\t\t<text><tspan font-family=\"{}\">0.0008</tspan></text>\n",
       "\t</g>\n",
       "</g>\n",
       "<g color=\"black\" fill=\"none\" stroke=\"currentColor\" stroke-linecap=\"butt\" stroke-linejoin=\"miter\" stroke-width=\"0.50\">\n",
       "\t<path d=\"M70.5,16.7 L83.0,16.7 M535.0,16.7 L522.5,16.7  \" stroke=\"black\"/>\t<g fill=\"rgb(0,0,0)\" font-family=\"{}\" font-size=\"16.00\" stroke=\"none\" text-anchor=\"end\" transform=\"translate(62.2,22.7)\">\n",
       "\t\t<text><tspan font-family=\"{}\">0.001</tspan></text>\n",
       "\t</g>\n",
       "</g>\n",
       "<g color=\"black\" fill=\"none\" stroke=\"currentColor\" stroke-linecap=\"butt\" stroke-linejoin=\"miter\" stroke-width=\"0.50\">\n",
       "\t<path d=\"M70.5,384.0 L70.5,371.5 M70.5,16.7 L70.5,29.2  \" stroke=\"black\"/>\t<g fill=\"rgb(0,0,0)\" font-family=\"{}\" font-size=\"16.00\" stroke=\"none\" text-anchor=\"middle\" transform=\"translate(70.5,408.0)\">\n",
       "\t\t<text><tspan font-family=\"{}\">0</tspan></text>\n",
       "\t</g>\n",
       "</g>\n",
       "<g color=\"black\" fill=\"none\" stroke=\"currentColor\" stroke-linecap=\"butt\" stroke-linejoin=\"miter\" stroke-width=\"0.50\">\n",
       "\t<path d=\"M163.4,384.0 L163.4,371.5 M163.4,16.7 L163.4,29.2  \" stroke=\"black\"/>\t<g fill=\"rgb(0,0,0)\" font-family=\"{}\" font-size=\"16.00\" stroke=\"none\" text-anchor=\"middle\" transform=\"translate(163.4,408.0)\">\n",
       "\t\t<text><tspan font-family=\"{}\">20</tspan></text>\n",
       "\t</g>\n",
       "</g>\n",
       "<g color=\"black\" fill=\"none\" stroke=\"currentColor\" stroke-linecap=\"butt\" stroke-linejoin=\"miter\" stroke-width=\"0.50\">\n",
       "\t<path d=\"M256.3,384.0 L256.3,371.5 M256.3,16.7 L256.3,29.2  \" stroke=\"black\"/>\t<g fill=\"rgb(0,0,0)\" font-family=\"{}\" font-size=\"16.00\" stroke=\"none\" text-anchor=\"middle\" transform=\"translate(256.3,408.0)\">\n",
       "\t\t<text><tspan font-family=\"{}\">40</tspan></text>\n",
       "\t</g>\n",
       "</g>\n",
       "<g color=\"black\" fill=\"none\" stroke=\"currentColor\" stroke-linecap=\"butt\" stroke-linejoin=\"miter\" stroke-width=\"0.50\">\n",
       "\t<path d=\"M349.2,384.0 L349.2,371.5 M349.2,16.7 L349.2,29.2  \" stroke=\"black\"/>\t<g fill=\"rgb(0,0,0)\" font-family=\"{}\" font-size=\"16.00\" stroke=\"none\" text-anchor=\"middle\" transform=\"translate(349.2,408.0)\">\n",
       "\t\t<text><tspan font-family=\"{}\">60</tspan></text>\n",
       "\t</g>\n",
       "</g>\n",
       "<g color=\"black\" fill=\"none\" stroke=\"currentColor\" stroke-linecap=\"butt\" stroke-linejoin=\"miter\" stroke-width=\"0.50\">\n",
       "\t<path d=\"M442.1,384.0 L442.1,371.5 M442.1,16.7 L442.1,29.2  \" stroke=\"black\"/>\t<g fill=\"rgb(0,0,0)\" font-family=\"{}\" font-size=\"16.00\" stroke=\"none\" text-anchor=\"middle\" transform=\"translate(442.1,408.0)\">\n",
       "\t\t<text><tspan font-family=\"{}\">80</tspan></text>\n",
       "\t</g>\n",
       "</g>\n",
       "<g color=\"black\" fill=\"none\" stroke=\"currentColor\" stroke-linecap=\"butt\" stroke-linejoin=\"miter\" stroke-width=\"0.50\">\n",
       "\t<path d=\"M535.0,384.0 L535.0,371.5 M535.0,16.7 L535.0,29.2  \" stroke=\"black\"/>\t<g fill=\"rgb(0,0,0)\" font-family=\"{}\" font-size=\"16.00\" stroke=\"none\" text-anchor=\"middle\" transform=\"translate(535.0,408.0)\">\n",
       "\t\t<text><tspan font-family=\"{}\">100</tspan></text>\n",
       "\t</g>\n",
       "</g>\n",
       "<g color=\"black\" fill=\"none\" stroke=\"currentColor\" stroke-linecap=\"butt\" stroke-linejoin=\"miter\" stroke-width=\"0.50\">\n",
       "</g>\n",
       "<g color=\"black\" fill=\"none\" stroke=\"currentColor\" stroke-linecap=\"butt\" stroke-linejoin=\"miter\" stroke-width=\"0.50\">\n",
       "\t<path d=\"M70.5,16.7 L70.5,384.0 L535.0,384.0 L535.0,16.7 L70.5,16.7 Z  \" stroke=\"black\"/></g>\n",
       "<g color=\"black\" fill=\"none\" stroke=\"currentColor\" stroke-linecap=\"butt\" stroke-linejoin=\"miter\" stroke-width=\"0.50\">\n",
       "</g>\n",
       "<g color=\"black\" fill=\"none\" stroke=\"black\" stroke-linecap=\"butt\" stroke-linejoin=\"miter\" stroke-width=\"1.00\">\n",
       "</g>\n",
       "<g color=\"black\" fill=\"none\" stroke=\"currentColor\" stroke-linecap=\"butt\" stroke-linejoin=\"miter\" stroke-width=\"1.00\">\n",
       "\t<path d=\"M349.7,121.7 L349.7,25.7 L526.7,25.7 L526.7,121.7 L349.7,121.7 Z  \" stroke=\"black\"/></g>\n",
       "\t<g id=\"gnuplot_plot_1a\"><title>LU decomp</title>\n",
       "<g color=\"white\" fill=\"none\" stroke=\"black\" stroke-linecap=\"butt\" stroke-linejoin=\"miter\" stroke-width=\"3.00\">\n",
       "</g>\n",
       "<g color=\"black\" fill=\"none\" stroke=\"currentColor\" stroke-linecap=\"butt\" stroke-linejoin=\"miter\" stroke-width=\"3.00\">\n",
       "\t<g fill=\"rgb(0,0,0)\" font-family=\"{}\" font-size=\"16.00\" stroke=\"none\" text-anchor=\"end\" transform=\"translate(526.7,55.7)\">\n",
       "\t\t<text><tspan font-family=\"{}\">LU decomp</tspan></text>\n",
       "\t</g>\n",
       "</g>\n",
       "<g color=\"black\" fill=\"none\" stroke=\"currentColor\" stroke-linecap=\"butt\" stroke-linejoin=\"miter\" stroke-width=\"3.00\">\n",
       "\t<path d=\"M360.9,49.7 L414.7,49.7 M75.1,376.6 L79.8,366.0 L84.4,372.2 L89.1,373.0 L93.7,372.3 L98.4,371.2   L103.0,371.8 L107.7,366.4 L112.3,370.8 L117.0,370.4 L121.6,370.8 L126.2,369.3 L130.9,370.1 L135.5,368.1   L140.2,369.6 L144.8,367.1 L149.5,366.7 L154.1,357.6 L158.8,356.8 L163.4,359.0 L168.0,351.3 L172.7,359.4   L177.3,356.1 L182.0,361.6 L186.6,369.6 L191.3,370.4 L195.9,369.3 L200.6,371.5 L205.2,371.2 L209.9,367.1   L214.5,366.0 L219.1,368.2 L223.8,366.4 L228.4,364.9 L233.1,370.1 L237.7,370.8 L242.4,370.8 L247.0,370.4   L251.7,367.4 L256.3,368.1 L260.9,369.6 L265.6,368.1 L270.2,368.2 L274.9,366.7 L279.5,367.4 L284.2,366.7   L288.8,351.3 L293.5,366.4 L298.1,366.0 L302.8,366.0 L307.4,363.8 L312.0,365.3 L316.7,364.9 L321.3,362.0   L326.0,364.1 L330.6,363.8 L335.3,361.2 L339.9,363.4 L344.6,363.1 L349.2,362.4 L353.8,362.4 L358.5,361.9   L363.1,360.2 L367.8,361.2 L372.4,359.7 L377.1,357.6 L381.7,356.8 L386.4,358.7 L391.0,358.3 L395.7,358.3   L400.3,354.9 L404.9,355.0 L409.6,355.4 L414.2,356.9 L418.9,356.1 L423.5,356.1 L428.2,355.0 L432.8,354.9   L437.5,354.6 L442.1,354.9 L446.7,353.9 L451.4,350.2 L456.0,353.5 L460.7,353.5 L465.3,352.0 L470.0,350.2   L474.6,351.3 L479.3,351.3 L483.9,348.0 L488.6,349.8 L493.2,349.5 L497.8,350.2 L502.5,346.5 L507.1,349.1   L511.8,346.5 L516.4,348.4 L521.1,343.3 L525.7,345.8 L530.4,338.5 L535.0,347.2  \" stroke=\"rgb(  0,   0, 255)\"/></g>\n",
       "\t</g>\n",
       "\t<g id=\"gnuplot_plot_2a\"><title>Octave \\\\</title>\n",
       "<g color=\"black\" fill=\"none\" stroke=\"currentColor\" stroke-linecap=\"butt\" stroke-linejoin=\"miter\" stroke-width=\"3.00\">\n",
       "\t<g fill=\"rgb(0,0,0)\" font-family=\"{}\" font-size=\"16.00\" stroke=\"none\" text-anchor=\"end\" transform=\"translate(526.7,103.7)\">\n",
       "\t\t<text><tspan font-family=\"{}\">Octave \\</tspan></text>\n",
       "\t</g>\n",
       "</g>\n",
       "<g color=\"black\" fill=\"none\" stroke=\"currentColor\" stroke-linecap=\"butt\" stroke-linejoin=\"miter\" stroke-width=\"3.00\">\n",
       "\t<path d=\"M360.9,97.7 L414.7,97.7 M75.1,379.6 L79.8,370.8 L84.4,375.5 L89.1,374.5 L93.7,373.0 L98.4,372.3   L103.0,372.3 L107.7,372.6 L112.3,372.3 L117.0,372.3 L121.6,372.2 L126.2,370.1 L130.9,370.1 L135.5,366.4   L140.2,368.6 L144.8,361.6 L149.5,366.7 L154.1,336.2 L158.8,352.4 L163.4,350.2 L168.0,352.4 L172.7,352.0   L177.3,353.1 L182.0,360.5 L186.6,363.5 L191.3,367.5 L195.9,364.9 L200.6,366.7 L205.2,367.1 L207.7,16.7   M214.2,16.7 L214.5,37.2 L219.1,118.8 L223.8,114.0 L228.4,357.6 L233.1,363.0 L237.7,363.8 L242.4,362.7   L247.0,362.3 L251.7,360.1 L256.3,361.6 L260.9,360.8 L265.6,359.7 L270.2,357.6 L274.9,358.6 L279.5,357.9   L284.2,148.6 L288.8,353.2 L293.5,353.9 L298.1,355.7 L302.8,350.5 L307.4,353.5 L312.0,353.5 L316.7,352.5   L321.3,350.6 L326.0,350.9 L330.6,348.0 L335.3,349.8 L339.9,349.8 L344.6,346.2 L349.2,348.0 L353.8,347.7   L358.5,347.0 L363.1,345.1 L367.8,345.8 L372.4,344.3 L373.2,16.7 M380.9,16.7 L381.7,337.0 L386.4,339.2   L391.0,338.0 L395.7,336.6 L400.3,335.8 L404.9,319.7 L409.6,334.8 L414.2,335.1 L418.9,333.6 L423.5,334.0   L428.2,332.6 L432.8,332.2 L437.5,330.4 L442.1,291.1 L446.7,326.0 L451.4,324.9 L456.0,323.4 L460.7,321.6   L465.3,322.0 L470.0,321.2 L474.6,320.1 L479.3,321.1 L483.9,319.3 L488.6,317.2 L493.2,316.4 L497.8,317.1   L502.5,310.2 L503.8,16.7 M510.5,16.7 L511.8,305.4 L512.1,16.7 M520.7,16.7 L521.1,307.6 L525.7,305.8   L530.4,303.2 L535.0,283.3  \" stroke=\"rgb(  0, 128,   0)\"/></g>\n",
       "\t</g>\n",
       "<g color=\"white\" fill=\"none\" stroke=\"rgb(  0, 128,   0)\" stroke-linecap=\"butt\" stroke-linejoin=\"miter\" stroke-width=\"2.00\">\n",
       "</g>\n",
       "<g color=\"black\" fill=\"none\" stroke=\"currentColor\" stroke-linecap=\"butt\" stroke-linejoin=\"miter\" stroke-width=\"2.00\">\n",
       "</g>\n",
       "<g color=\"black\" fill=\"none\" stroke=\"black\" stroke-linecap=\"butt\" stroke-linejoin=\"miter\" stroke-width=\"0.50\">\n",
       "</g>\n",
       "<g color=\"black\" fill=\"none\" stroke=\"currentColor\" stroke-linecap=\"butt\" stroke-linejoin=\"miter\" stroke-width=\"0.50\">\n",
       "</g>\n",
       "</g>\n",
       "</svg>"
      ],
      "text/plain": [
       "<IPython.core.display.SVG object>"
      ]
     },
     "metadata": {},
     "output_type": "display_data"
    }
   ],
   "source": [
    "% time LU solution vs backslash\n",
    "t_lu=zeros(100,1);\n",
    "t_bs=zeros(100,1);\n",
    "for N=1:100\n",
    "    A=rand(N,N);\n",
    "    y=rand(N,1);\n",
    "    [L,U,P]=lu(A);\n",
    "\n",
    "    tic; d=L\\y; x=U\\d; t_lu(N)=toc;\n",
    "\n",
    "    tic; x=A\\y; t_bs(N)=toc;\n",
    "end\n",
    "plot([1:100],t_lu,[1:100],t_bs) \n",
    "legend('LU decomp','Octave \\\\')\n",
    "axis([0,100,0,0.001])"
   ]
  },
  {
   "cell_type": "markdown",
   "metadata": {
    "collapsed": true,
    "slideshow": {
     "slide_type": "slide"
    }
   },
   "source": [
    "## Spring-mass system\n",
    "\n",
    "4 masses are connected in series to 4 springs with K=10 N/m. What are the final positions of the masses? \n",
    "\n",
    "![Springs-masses](../lecture_09/mass_springs.svg)\n",
    "\n",
    "The masses haves the following amounts, 1, 2, 3, and 4 kg for masses 1-4. Using a FBD for each mass:\n",
    "\n",
    "$m_{1}g+k(x_{2}-x_{1})-kx_{1}=0$\n",
    "\n",
    "$m_{2}g+k(x_{3}-x_{2})-k(x_{2}-x_{1})=0$\n",
    "\n",
    "$m_{3}g+k(x_{4}-x_{3})-k(x_{3}-x_{2})=0$\n",
    "\n",
    "$m_{4}g-k(x_{4}-x_{3})=0$\n",
    "\n",
    "in matrix form:\n",
    "\n",
    "$\\left[ \\begin{array}{cccc}\n",
    "2k & -k & 0 & 0 \\\\\n",
    "-k & 2k & -k & 0 \\\\\n",
    "0 & -k & 2k & -k \\\\\n",
    "0 & 0 & -k & k \\end{array} \\right]\n",
    "\\left[ \\begin{array}{c}\n",
    "x_{1} \\\\\n",
    "x_{2} \\\\\n",
    "x_{3} \\\\\n",
    "x_{4} \\end{array} \\right]=\n",
    "\\left[ \\begin{array}{c}\n",
    "m_{1}g \\\\\n",
    "m_{2}g \\\\\n",
    "m_{3}g \\\\\n",
    "m_{4}g \\end{array} \\right]$"
   ]
  },
  {
   "cell_type": "code",
   "execution_count": 10,
   "metadata": {
    "collapsed": false,
    "slideshow": {
     "slide_type": "subslide"
    }
   },
   "outputs": [
    {
     "name": "stdout",
     "output_type": "stream",
     "text": [
      "K =\n",
      "\n",
      "   20  -10    0    0\n",
      "  -10   20  -10    0\n",
      "    0  -10   20  -10\n",
      "    0    0  -10   10\n",
      "\n",
      "y =\n",
      "\n",
      "    9.8100\n",
      "   19.6200\n",
      "   29.4300\n",
      "   39.2400\n",
      "\n"
     ]
    }
   ],
   "source": [
    "k=10; % N/m\n",
    "m1=1; % kg\n",
    "m2=2;\n",
    "m3=3;\n",
    "m4=4;\n",
    "g=9.81; % m/s^2\n",
    "K=[2*k -k 0 0; -k 2*k -k 0; 0 -k 2*k -k; 0 0 -k k]\n",
    "y=[m1*g;m2*g;m3*g;m4*g]"
   ]
  },
  {
   "cell_type": "markdown",
   "metadata": {
    "slideshow": {
     "slide_type": "slide"
    }
   },
   "source": [
    "This matrix, K, is symmetric. \n",
    "\n",
    "`K(i,j)==K(j,i)`\n",
    "\n",
    "Now we can use,"
   ]
  },
  {
   "cell_type": "markdown",
   "metadata": {
    "slideshow": {
     "slide_type": "fragment"
    }
   },
   "source": [
    "## Cholesky Factorization\n",
    "\n",
    "We can decompose the matrix, K into two matrices, $U$ and $U^{T}$, where\n",
    "\n",
    "$K=U^{T}U$\n",
    "\n",
    "each of the components of U can be calculated with the following equations:\n",
    "\n",
    "$u_{ii}=\\sqrt{a_{ii}-\\sum_{k=1}^{i-1}u_{ki}^{2}}$\n",
    "\n",
    "$u_{ij}=\\frac{a_{ij}-\\sum_{k=1}^{i-1}u_{ki}u_{kj}}{u_{ii}}$\n",
    "\n",
    "so for K"
   ]
  },
  {
   "cell_type": "code",
   "execution_count": 12,
   "metadata": {
    "collapsed": false,
    "slideshow": {
     "slide_type": "subslide"
    }
   },
   "outputs": [
    {
     "name": "stdout",
     "output_type": "stream",
     "text": [
      "u11 =  4.4721\n",
      "u12 = -2.2361\n",
      "u13 = 0\n",
      "u14 = 0\n",
      "u22 =  3.8730\n",
      "u23 = -2.5820\n",
      "u24 = 0\n",
      "u33 =  3.6515\n",
      "u34 = -2.7386\n",
      "u44 =  1.5811\n",
      "U =\n",
      "\n",
      "   4.47214  -2.23607   0.00000   0.00000\n",
      "   0.00000   3.87298  -2.58199   0.00000\n",
      "   0.00000   0.00000   3.65148  -2.73861\n",
      "   0.00000   0.00000   0.00000   1.58114\n",
      "\n"
     ]
    }
   ],
   "source": [
    "u11=sqrt(K(1,1))\n",
    "u12=(K(1,2))/u11\n",
    "u13=(K(1,3))/u11\n",
    "u14=(K(1,4))/u11\n",
    "u22=sqrt(K(2,2)-u12^2)\n",
    "u23=(K(2,3)-u12*u13)/u22\n",
    "u24=(K(2,4)-u12*u14)/u22\n",
    "u33=sqrt(K(3,3)-u13^2-u23^2)\n",
    "u34=(K(3,4)-u13*u14-u23*u24)/u33\n",
    "u44=sqrt(K(4,4)-u14^2-u24^2-u34^2)\n",
    "U=[u11,u12,u13,u14;0,u22,u23,u24;0,0,u33,u34;0,0,0,u44]"
   ]
  },
  {
   "cell_type": "code",
   "execution_count": 17,
   "metadata": {
    "collapsed": false,
    "slideshow": {
     "slide_type": "subslide"
    }
   },
   "outputs": [
    {
     "name": "stdout",
     "output_type": "stream",
     "text": [
      "ans =\n",
      "\n",
      "   1   1   1   1\n",
      "   1   1   1   1\n",
      "   1   1   1   1\n",
      "   1   1   1   1\n",
      "\n"
     ]
    }
   ],
   "source": [
    "(U'*U)'==U'*U"
   ]
  },
  {
   "cell_type": "code",
   "execution_count": 18,
   "metadata": {
    "collapsed": false,
    "slideshow": {
     "slide_type": "subslide"
    }
   },
   "outputs": [
    {
     "name": "stdout",
     "output_type": "stream",
     "text": [
      "average time spent for Cholesky factored solution = 1.465964e-05+/-9.806001e-06\n",
      "average time spent for backslash solution         = 1.555967e-05+/-1.048561e-05\n"
     ]
    }
   ],
   "source": [
    "% time solution for Cholesky vs backslash\n",
    "t_chol=zeros(1000,1);\n",
    "t_bs=zeros(1000,1);\n",
    "for i=1:1000\n",
    "    tic; d=U'*y; x=U\\d; t_chol(i)=toc;\n",
    "    tic; x=K\\y; t_bs(i)=toc;\n",
    "end\n",
    "fprintf('average time spent for Cholesky factored solution = %e+/-%e',mean(t_chol),std(t_chol))\n",
    "\n",
    "fprintf('average time spent for backslash solution         = %e+/-%e',mean(t_bs),std(t_bs))"
   ]
  }
 ],
 "metadata": {
  "celltoolbar": "Slideshow",
  "kernelspec": {
   "display_name": "Octave",
   "language": "octave",
   "name": "octave"
  },
  "language_info": {
   "file_extension": ".m",
   "help_links": [
    {
     "text": "MetaKernel Magics",
     "url": "https://github.com/calysto/metakernel/blob/master/metakernel/magics/README.md"
    }
   ],
   "mimetype": "text/x-octave",
   "name": "octave",
   "version": "0.19.14"
  }
 },
 "nbformat": 4,
 "nbformat_minor": 2
}
