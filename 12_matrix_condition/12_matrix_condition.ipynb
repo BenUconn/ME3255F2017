{
 "cells": [
  {
   "cell_type": "code",
   "execution_count": 1,
   "metadata": {
    "collapsed": true
   },
   "outputs": [],
   "source": [
    "%plot --format svg"
   ]
  },
  {
   "cell_type": "code",
   "execution_count": 2,
   "metadata": {
    "collapsed": true
   },
   "outputs": [],
   "source": [
    "setdefaults"
   ]
  },
  {
   "cell_type": "markdown",
   "metadata": {},
   "source": [
    "## Condition of a matrix \n",
    "### *just checked in to see what condition my condition was in*\n",
    "### Matrix norms\n",
    "\n",
    "The Euclidean norm of a vector is measure of the magnitude (in 3D this would be: $|x|=\\sqrt{x_{1}^{2}+x_{2}^{2}+x_{3}^{2}}$) in general the equation is:\n",
    "\n",
    "$||x||_{e}=\\sqrt{\\sum_{i=1}^{n}x_{i}^{2}}$\n",
    "\n",
    "For a matrix, A, the same norm is called the Frobenius norm:\n",
    "\n",
    "$||A||_{f}=\\sqrt{\\sum_{i=1}^{n}\\sum_{j=1}^{m}A_{i,j}^{2}}$\n",
    "\n",
    "In general we can calculate any $p$-norm where\n",
    "\n",
    "$||A||_{p}=\\sqrt{\\sum_{i=1}^{n}\\sum_{i=1}^{m}A_{i,j}^{p}}$\n",
    "\n",
    "so the p=1, 1-norm is \n",
    "\n",
    "$||A||_{1}=\\sqrt{\\sum_{i=1}^{n}\\sum_{i=1}^{m}A_{i,j}^{1}}=\\sum_{i=1}^{n}\\sum_{i=1}^{m}|A_{i,j}|$\n",
    "\n",
    "$||A||_{\\infty}=\\sqrt{\\sum_{i=1}^{n}\\sum_{i=1}^{m}A_{i,j}^{\\infty}}=\\max_{1\\le i \\le n}\\sum_{j=1}^{m}|A_{i,j}|$\n",
    "\n",
    "### Condition of Matrix\n",
    "\n",
    "The matrix condition is the product of \n",
    "\n",
    "$Cond(A) = ||A||\\cdot||A^{-1}||$ \n",
    "\n",
    "So each norm will have a different condition number, but the limit is $Cond(A)\\ge 1$\n",
    "\n",
    "An estimate of the rounding error is based on the condition of A:\n",
    "\n",
    "$\\frac{||\\Delta x||}{x} \\le Cond(A) \\frac{||\\Delta A||}{||A||}$\n",
    "\n",
    "So if the coefficients of A have accuracy to $10^{-t}\n",
    "\n",
    "and the condition of A, $Cond(A)=10^{c}$\n",
    "\n",
    "then the solution for x can have rounding errors up to $10^{c-t}$\n"
   ]
  },
  {
   "cell_type": "code",
   "execution_count": 7,
   "metadata": {
    "collapsed": false
   },
   "outputs": [
    {
     "name": "stdout",
     "output_type": "stream",
     "text": [
      "A =\n",
      "\n",
      "   1.00000   0.50000   0.33333\n",
      "   0.50000   0.33333   0.25000\n",
      "   0.33333   0.25000   0.20000\n",
      "\n",
      "L =\n",
      "\n",
      "   1.00000   0.00000   0.00000\n",
      "   0.50000   1.00000   0.00000\n",
      "   0.33333   1.00000   1.00000\n",
      "\n",
      "U =\n",
      "\n",
      "   1.00000   0.50000   0.33333\n",
      "   0.00000   0.08333   0.08333\n",
      "   0.00000  -0.00000   0.00556\n",
      "\n"
     ]
    }
   ],
   "source": [
    "A=[1,1/2,1/3;1/2,1/3,1/4;1/3,1/4,1/5]\n",
    "[L,U]=LU_naive(A)"
   ]
  },
  {
   "cell_type": "markdown",
   "metadata": {
    "collapsed": true
   },
   "source": [
    "Then, $A^{-1}=(LU)^{-1}=U^{-1}L^{-1}$\n",
    "\n",
    "$Ld_{1}=\\left[\\begin{array}{c}\n",
    "1 \\\\\n",
    "0 \\\\\n",
    "0 \\end{array}\\right]$, $Ux_{1}=d_{1}$ ..."
   ]
  },
  {
   "cell_type": "code",
   "execution_count": 8,
   "metadata": {
    "collapsed": false
   },
   "outputs": [
    {
     "name": "stdout",
     "output_type": "stream",
     "text": [
      "invA =\n",
      "\n",
      "     9.0000   -36.0000    30.0000\n",
      "   -36.0000   192.0000  -180.0000\n",
      "    30.0000  -180.0000   180.0000\n",
      "\n",
      "ans =\n",
      "\n",
      "   1.0000e+00   3.5527e-15   2.9976e-15\n",
      "  -1.3249e-14   1.0000e+00  -9.1038e-15\n",
      "   8.5117e-15   7.1054e-15   1.0000e+00\n",
      "\n"
     ]
    }
   ],
   "source": [
    "invA=zeros(3,3);\n",
    "d1=L\\[1;0;0];\n",
    "d2=L\\[0;1;0];\n",
    "d3=L\\[0;0;1];\n",
    "invA(:,1)=U\\d1; % shortcut invA(:,1)=A\\[1;0;0]\n",
    "invA(:,2)=U\\d2;\n",
    "invA(:,3)=U\\d3\n",
    "invA*A"
   ]
  },
  {
   "cell_type": "markdown",
   "metadata": {},
   "source": [
    "Find the condition of A, $cond(A)$"
   ]
  },
  {
   "cell_type": "code",
   "execution_count": 9,
   "metadata": {
    "collapsed": false
   },
   "outputs": [
    {
     "name": "stdout",
     "output_type": "stream",
     "text": [
      "normf_A =  1.4136\n",
      "normf_invA =  372.21\n",
      "cond_f_A =  526.16\n",
      "ans =  1.4136\n",
      "norm1_A =  1.8333\n",
      "norm1_invA =  30.000\n",
      "ans =  1.8333\n",
      "cond_1_A =  55.000\n",
      "norminf_A =  1.8333\n",
      "norminf_invA =  30.000\n",
      "ans =  1.8333\n",
      "cond_inf_A =  55.000\n"
     ]
    }
   ],
   "source": [
    "% Frobenius norm\n",
    "normf_A = sqrt(sum(sum(A.^2)))\n",
    "normf_invA = sqrt(sum(sum(invA.^2)))\n",
    "\n",
    "cond_f_A = normf_A*normf_invA\n",
    "\n",
    "norm(A,'fro')\n",
    "\n",
    "% p=1, column sum norm\n",
    "norm1_A = max(sum(A,2))\n",
    "norm1_invA = max(sum(invA,2))\n",
    "norm(A,1)\n",
    "\n",
    "cond_1_A=norm1_A*norm1_invA\n",
    "\n",
    "% p=inf, row sum norm\n",
    "norminf_A = max(sum(A,1))\n",
    "norminf_invA = max(sum(invA,1))\n",
    "norm(A,inf)\n",
    "\n",
    "cond_inf_A=norminf_A*norminf_invA\n"
   ]
  },
  {
   "cell_type": "markdown",
   "metadata": {
    "collapsed": true
   },
   "source": [
    "Consider the problem again from the intro to Linear Algebra, 4 masses are connected in series to 4 springs with spring constants $K_{i}$. What does a high condition number mean for this problem? \n",
    "\n",
    "![Springs-masses](../lecture_09/mass_springs.png)\n",
    "\n",
    "The masses haves the following amounts, 1, 2, 3, and 4 kg for masses 1-4. Using a FBD for each mass:\n",
    "\n",
    "$m_{1}g+k_{2}(x_{2}-x_{1})-k_{1}x_{1}=0$\n",
    "\n",
    "$m_{2}g+k_{3}(x_{3}-x_{2})-k_{2}(x_{2}-x_{1})=0$\n",
    "\n",
    "$m_{3}g+k_{4}(x_{4}-x_{3})-k_{3}(x_{3}-x_{2})=0$\n",
    "\n",
    "$m_{4}g-k_{4}(x_{4}-x_{3})=0$\n",
    "\n",
    "in matrix form:\n",
    "\n",
    "$\\left[ \\begin{array}{cccc}\n",
    "k_{1}+k_{2} & -k_{2} & 0 & 0 \\\\\n",
    "-k_{2} & k_{2}+k_{3} & -k_{3} & 0 \\\\\n",
    "0 & -k_{3} & k_{3}+k_{4} & -k_{4} \\\\\n",
    "0 & 0 & -k_{4} & k_{4} \\end{array} \\right]\n",
    "\\left[ \\begin{array}{c}\n",
    "x_{1} \\\\\n",
    "x_{2} \\\\\n",
    "x_{3} \\\\\n",
    "x_{4} \\end{array} \\right]=\n",
    "\\left[ \\begin{array}{c}\n",
    "m_{1}g \\\\\n",
    "m_{2}g \\\\\n",
    "m_{3}g \\\\\n",
    "m_{4}g \\end{array} \\right]$"
   ]
  },
  {
   "cell_type": "code",
   "execution_count": 10,
   "metadata": {
    "collapsed": false
   },
   "outputs": [
    {
     "name": "stdout",
     "output_type": "stream",
     "text": [
      "K =\n",
      "\n",
      "   100010  -100000        0        0\n",
      "  -100000   100010      -10        0\n",
      "        0      -10       11       -1\n",
      "        0        0       -1        1\n",
      "\n",
      "y =\n",
      "\n",
      "    9.8100\n",
      "   19.6200\n",
      "   29.4300\n",
      "   39.2400\n",
      "\n"
     ]
    }
   ],
   "source": [
    "k1=10; % N/m\n",
    "k2=100000;\n",
    "k3=10;\n",
    "k4=1;\n",
    "m1=1; % kg\n",
    "m2=2;\n",
    "m3=3;\n",
    "m4=4;\n",
    "g=9.81; % m/s^2\n",
    "K=[k1+k2 -k2 0 0; -k2 k2+k3 -k3 0; 0 -k3 k3+k4 -k4; 0 0 -k4 k4]\n",
    "y=[m1*g;m2*g;m3*g;m4*g]"
   ]
  },
  {
   "cell_type": "code",
   "execution_count": 11,
   "metadata": {
    "collapsed": false
   },
   "outputs": [
    {
     "name": "stdout",
     "output_type": "stream",
     "text": [
      "ans =    3.2004e+05\n",
      "ans =    3.2004e+05\n",
      "ans =    2.5925e+05\n",
      "ans =    2.5293e+05\n"
     ]
    }
   ],
   "source": [
    "cond(K,inf)\n",
    "cond(K,1)\n",
    "cond(K,'fro')\n",
    "cond(K,2)"
   ]
  },
  {
   "cell_type": "code",
   "execution_count": 26,
   "metadata": {
    "collapsed": false
   },
   "outputs": [
    {
     "name": "stdout",
     "output_type": "stream",
     "text": [
      "e =\n",
      "\n",
      "   7.9078e-01\n",
      "   3.5881e+00\n",
      "   1.7621e+01\n",
      "   2.0001e+05\n",
      "\n",
      "ans =    2.5293e+05\n"
     ]
    }
   ],
   "source": [
    "e=eig(K)\n",
    "max(e)/min(e)"
   ]
  },
  {
   "cell_type": "markdown",
   "metadata": {},
   "source": [
    "## P=2 norm is ratio of biggest eigenvalue to smallest eigenvalue!\n",
    "\n",
    "no need to calculate the inv(K)"
   ]
  }
 ],
 "metadata": {
  "kernelspec": {
   "display_name": "Octave",
   "language": "octave",
   "name": "octave"
  },
  "language_info": {
   "file_extension": ".m",
   "help_links": [
    {
     "text": "MetaKernel Magics",
     "url": "https://github.com/calysto/metakernel/blob/master/metakernel/magics/README.md"
    }
   ],
   "mimetype": "text/x-octave",
   "name": "octave",
   "version": "0.19.14"
  }
 },
 "nbformat": 4,
 "nbformat_minor": 2
}
